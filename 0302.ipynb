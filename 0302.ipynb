{
 "cells": [
  {
   "cell_type": "code",
   "execution_count": 1,
   "id": "d393465a",
   "metadata": {},
   "outputs": [
    {
     "name": "stdout",
     "output_type": "stream",
     "text": [
      "新闻学\n"
     ]
    }
   ],
   "source": [
    "# 注释，这是一个python文件，在Python中，使用#表示注释\n",
    "\n",
    "# 赋值语句\n",
    "\n",
    "major = \"新闻学\"\n",
    "\n",
    "print(major)"
   ]
  },
  {
   "cell_type": "code",
   "execution_count": 2,
   "id": "14962d2c",
   "metadata": {},
   "outputs": [
    {
     "name": "stdout",
     "output_type": "stream",
     "text": [
      "同学你好！我来详细解释一下Python中函数的默认值。\n",
      "\n",
      "**什么是默认值？**\n",
      "默认值就是给函数参数预设的值，当调用函数时如果没有传递该参数，就会自动使用默认值。\n",
      "\n",
      "**基本语法：**\n",
      "```python\n",
      "def 函数名(参数名=默认值):\n",
      "    # 函数体\n",
      "```\n",
      "\n",
      "**举个例子：**\n",
      "```python\n",
      "def greet(name=\"同学\"):\n",
      "    print(f\"你好，{name}！\")\n",
      "\n",
      "# 使用默认值\n",
      "greet()        # 输出：你好，同学！\n",
      "# 传递参数值\n",
      "greet(\"小明\")  # 输出：你好，小明！\n",
      "```\n",
      "\n",
      "**重要注意事项：**\n",
      "\n",
      "1. **默认参数必须放在最后**\n",
      "```python\n",
      "# 正确写法\n",
      "def func(a, b=10):\n",
      "    pass\n",
      "\n",
      "# 错误写法\n",
      "def func(a=10, b):  # 语法错误！\n",
      "    pass\n",
      "```\n",
      "\n",
      "2. **默认值只计算一次**\n",
      "对于可变对象（如列表、字典），需要特别注意：\n",
      "```python\n",
      "def add_item(item, items=[]):  # 有风险！\n",
      "    items.append(item)\n",
      "    return items\n",
      "\n",
      "print(add_item(1))  # [1]\n",
      "print(add_item(2))  # [1, 2] 而不是期望的 [2]\n",
      "```\n",
      "\n",
      "**推荐的写法：**\n",
      "```python\n",
      "def add_item(item, items=None):\n",
      "    if items is None:\n",
      "        items = []\n",
      "    items.append(item)\n",
      "    return items\n",
      "```\n",
      "\n",
      "**使用场景：**\n",
      "- 配置参数（如日志级别、超时时间）\n",
      "- 可选参数\n",
      "- 向后兼容的函数扩展\n",
      "\n",
      "理解了这些概念后，你就可以灵活使用默认值来编写更优雅的函数了！有什么疑问可以继续问我。\n"
     ]
    }
   ],
   "source": [
    "def ds(sys_prompt=\"You are a helpful assistant\",user_prompt=\"hello\"):\n",
    "    # Please install OpenAI SDK first: `pip3 install openai`\n",
    "\n",
    "    from openai import OpenAI\n",
    "\n",
    "    client = OpenAI(api_key=\"sk-fa1f860bbdd347609048a521915b94b3\", base_url=\"https://api.deepseek.com\")\n",
    "\n",
    "    response = client.chat.completions.create(\n",
    "        model=\"deepseek-chat\",\n",
    "        messages=[\n",
    "            {\"role\": \"system\", \"content\": sys_prompt},\n",
    "            {\"role\": \"user\", \"content\": user_prompt},\n",
    "        ],\n",
    "        stream=False\n",
    "    )\n",
    "\n",
    "    print(response.choices[0].message.content)\n",
    "\n",
    "# ds()\n",
    "\n",
    "explain_prompt = '''请你扮演一位态度和善、知识渊博的教师，很有耐心地为学生提供概念的解释。'''\n",
    "ds(explain_prompt,\"python中函数的默认值\")"
   ]
  },
  {
   "cell_type": "code",
   "execution_count": 12,
   "id": "d204e871",
   "metadata": {},
   "outputs": [
    {
     "name": "stdout",
     "output_type": "stream",
     "text": [
      "19 西北民族大学\n",
      "<class 'int'> <class 'str'> <class 'float'> <class 'bool'>\n"
     ]
    }
   ],
   "source": [
    "# 数据类型\n",
    "from pickle import FALSE\n",
    "\n",
    "\n",
    "age = 19\n",
    "school = '西北民族大学'\n",
    "height = 2.32\n",
    "is_biye = False\n",
    "print(age,school)\n",
    "print(type(age),type(school),type(height),type(is_biye))"
   ]
  },
  {
   "cell_type": "code",
   "execution_count": 6,
   "id": "87ccceaa",
   "metadata": {},
   "outputs": [
    {
     "name": "stdout",
     "output_type": "stream",
     "text": [
      "<class 'list'> <class 'tuple'> <class 'set'> <class 'dict'>\n"
     ]
    }
   ],
   "source": [
    "list1 = [1,3,4,5]\n",
    "tuple1 = (1,3,4)\n",
    "set1 = {1,2,3,4}\n",
    "dict1 = {\"name\":\"xiaomin\",\"age\":19}\n",
    "print(type(list1),type(tuple1),type(set1),type(dict1))\n"
   ]
  },
  {
   "cell_type": "code",
   "execution_count": 9,
   "id": "06362a23",
   "metadata": {},
   "outputs": [
    {
     "name": "stdout",
     "output_type": "stream",
     "text": [
      "1\n",
      "1\n",
      "{1, 2, 3, 4}\n",
      "19\n"
     ]
    }
   ],
   "source": [
    "print(list1[0])\n",
    "print(tuple1[0])\n",
    "print(set1)\n",
    "print(dict1[\"age\"])\n"
   ]
  },
  {
   "cell_type": "code",
   "execution_count": 25,
   "id": "4024ff12",
   "metadata": {},
   "outputs": [],
   "source": [
    "age = 20"
   ]
  },
  {
   "cell_type": "code",
   "execution_count": null,
   "id": "a155aa85",
   "metadata": {},
   "outputs": [
    {
     "name": "stdout",
     "output_type": "stream",
     "text": [
      "你到了犯罪就会去踩缝纫机的年龄了。\n"
     ]
    }
   ],
   "source": [
    "# 流程控制\n",
    "if age > 14:\n",
    "    print('你到了犯罪就会去踩缝纫机的年龄了。')\n",
    "else:\n",
    "    print('你小心点！')"
   ]
  },
  {
   "cell_type": "code",
   "execution_count": 30,
   "id": "f910461b",
   "metadata": {},
   "outputs": [
    {
     "name": "stdout",
     "output_type": "stream",
     "text": [
      "0\n",
      "2\n",
      "4\n"
     ]
    }
   ],
   "source": [
    "for i in range(0,5,2):\n",
    "    print(i)"
   ]
  },
  {
   "cell_type": "code",
   "execution_count": 29,
   "id": "72bfb470",
   "metadata": {},
   "outputs": [
    {
     "name": "stdout",
     "output_type": "stream",
     "text": [
      "9\n",
      "8\n",
      "7\n",
      "6\n",
      "5\n",
      "4\n",
      "3\n",
      "2\n",
      "1\n",
      "0\n"
     ]
    }
   ],
   "source": [
    "j = 10\n",
    "while(j>0):\n",
    "    j = j-1\n",
    "    print(j)"
   ]
  },
  {
   "cell_type": "code",
   "execution_count": 39,
   "id": "9a046841",
   "metadata": {},
   "outputs": [
    {
     "name": "stdout",
     "output_type": "stream",
     "text": [
      "你好，我是小明，我今年18岁\n"
     ]
    }
   ],
   "source": [
    "class Stu():\n",
    "    def __init__(self,name,age):\n",
    "        self.name = name\n",
    "        self.age = age\n",
    "    def say_hello(self):\n",
    "        print(f'你好，我是{self.name}，我今年{self.age}岁')\n",
    "xiaoming = Stu('小明',18)\n",
    "xiaoming.say_hello()"
   ]
  },
  {
   "cell_type": "code",
   "execution_count": 42,
   "id": "31a86ad5",
   "metadata": {},
   "outputs": [],
   "source": [
    "class Person():\n",
    "    age=19\n",
    "    major = '新闻学'\n",
    "    name = '张三'\n",
    "\n",
    "    def say_hello(self):\n",
    "        print(f'你好，我是{self.name}，我今年{self.age}岁，我专业是{self.major}')"
   ]
  },
  {
   "cell_type": "code",
   "execution_count": 44,
   "id": "618fe3d7",
   "metadata": {},
   "outputs": [
    {
     "name": "stdout",
     "output_type": "stream",
     "text": [
      "你好，我是张三，我今年19岁，我专业是新闻学\n"
     ]
    },
    {
     "data": {
      "text/plain": [
       "19"
      ]
     },
     "execution_count": 44,
     "metadata": {},
     "output_type": "execute_result"
    }
   ],
   "source": [
    "p1 = Person()\n",
    "p1.say_hello()\n",
    "p1.age"
   ]
  }
 ],
 "metadata": {
  "kernelspec": {
   "display_name": "myenv",
   "language": "python",
   "name": "python3"
  },
  "language_info": {
   "codemirror_mode": {
    "name": "ipython",
    "version": 3
   },
   "file_extension": ".py",
   "mimetype": "text/x-python",
   "name": "python",
   "nbconvert_exporter": "python",
   "pygments_lexer": "ipython3",
   "version": "3.12.9"
  }
 },
 "nbformat": 4,
 "nbformat_minor": 5
}

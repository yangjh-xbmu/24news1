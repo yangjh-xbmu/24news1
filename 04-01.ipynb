{
 "cells": [
  {
   "cell_type": "code",
   "execution_count": 1,
   "id": "6d05a3b1",
   "metadata": {},
   "outputs": [],
   "source": [
    "import mytools\n"
   ]
  },
  {
   "cell_type": "code",
   "execution_count": 2,
   "id": "9fb5d894",
   "metadata": {},
   "outputs": [
    {
     "name": "stdout",
     "output_type": "stream",
     "text": [
      "# Python中的类和对象\n",
      "\n",
      "## 简明定义\n",
      "类是创建对象的蓝图或模板，定义了对象的属性和行为；对象是类的实例，具有类定义的属性和方法。\n",
      "\n",
      "## 核心思想/原理\n",
      "**类**是一个抽象的概念，它封装了数据（属性）和操作数据的方法（函数）。类定义了对象的结构和行为模式。\n",
      "\n",
      "**对象**是类的具体实例，每个对象都有自己独立的属性值，但共享相同的方法定义。创建对象的过程称为\"实例化\"。\n",
      "\n",
      "核心机制：\n",
      "- **封装**：将数据和方法包装在类中，隐藏内部实现细节\n",
      "- **继承**：子类可以继承父类的属性和方法，实现代码复用\n",
      "- **多态**：不同类的对象可以对同一方法做出不同的响应\n",
      "\n",
      "## 举例说明\n",
      "\n",
      "**例1：简单的学生类**\n",
      "```python\n",
      "class Student:\n",
      "    def __init__(self, name, age):\n",
      "        self.name = name\n",
      "        self.age = age\n",
      "    \n",
      "    def introduce(self):\n",
      "        print(f\"我叫{self.name}，今年{self.age}岁\")\n",
      "\n",
      "# 创建对象\n",
      "student1 = Student(\"张三\", 20)\n",
      "student2 = Student(\"李四\", 22)\n",
      "\n",
      "student1.introduce()  # 输出：我叫张三，今年20岁\n",
      "student2.introduce()  # 输出：我叫李四，今年22岁\n",
      "```\n",
      "\n",
      "**例2：继承示例**\n",
      "```python\n",
      "class Animal:\n",
      "    def __init__(self, name):\n",
      "        self.name = name\n",
      "    \n",
      "    def speak(self):\n",
      "        pass\n",
      "\n",
      "class Dog(Animal):\n",
      "    def speak(self):\n",
      "        return \"汪汪！\"\n",
      "\n",
      "class Cat(Animal):\n",
      "    def speak(self):\n",
      "        return \"喵喵！\"\n",
      "\n",
      "dog = Dog(\"小白\")\n",
      "cat = Cat(\"小花\")\n",
      "print(dog.speak())  # 输出：汪汪！\n",
      "print(cat.speak())  # 输出：喵喵！\n",
      "```\n",
      "\n",
      "## 优点\n",
      "1. **代码复用**：通过继承可以重用已有的代码\n",
      "2. **模块化**：将相关功能组织在一起，提高代码的可维护性\n",
      "3. **数据隐藏**：通过封装保护内部数据，只暴露必要的接口\n",
      "4. **易于扩展**：可以通过继承轻松扩展功能\n",
      "5. **模拟现实世界**：更符合人类的思维方式，便于理解和设计\n",
      "\n",
      "## 缺点\n",
      "1. **学习曲线**：面向对象的概念对初学者可能较难理解\n",
      "2. **性能开销**：相比过程式编程，可能有轻微的性能损失\n",
      "3. **设计复杂度**：不恰当的设计可能导致过度工程化\n",
      "4. **内存占用**：每个对象都需要存储自己的属性值\n",
      "\n",
      "## 类比\n",
      "**类和对象的关系就像\"汽车设计图\"和\"具体的汽车\"**：\n",
      "\n",
      "- **类**就像汽车的设计图纸，定义了汽车应该有哪些部件（属性）和功能（方法）\n",
      "- **对象**就像按照图纸生产出来的具体汽车，每辆汽车都有相同的结构但可以有不同的颜色、配置（属性值）\n",
      "- 图纸（类）只有一个，但可以制造出无数辆汽车（对象）\n",
      "- 每辆汽车都能执行相同的操作（如启动、加速），但状态可能不同\n",
      "\n",
      "这种关系让程序设计更加模块化和可维护，就像汽车制造商可以通过修改设计图来改进所有未来生产的汽车，而不需要逐辆修改。\n"
     ]
    }
   ],
   "source": [
    "result = mytools.explains(\"Python中的类和对象\")\n",
    "print(result)"
   ]
  },
  {
   "cell_type": "code",
   "execution_count": 2,
   "id": "45850eba",
   "metadata": {},
   "outputs": [
    {
     "name": "stdout",
     "output_type": "stream",
     "text": [
      "Hello! How can I help you today? 😊\n"
     ]
    }
   ],
   "source": [
    "mytools.dsllm()"
   ]
  },
  {
   "cell_type": "code",
   "execution_count": 3,
   "id": "4e23de6a",
   "metadata": {},
   "outputs": [],
   "source": [
    "from mytools import dsllm"
   ]
  },
  {
   "cell_type": "code",
   "execution_count": 4,
   "id": "c4c51214",
   "metadata": {},
   "outputs": [
    {
     "name": "stdout",
     "output_type": "stream",
     "text": [
      "Hello! How can I help you today?\n"
     ]
    }
   ],
   "source": [
    "dsllm()"
   ]
  },
  {
   "cell_type": "code",
   "execution_count": 6,
   "id": "23000578",
   "metadata": {},
   "outputs": [
    {
     "name": "stdout",
     "output_type": "stream",
     "text": [
      "你好，张三！\n"
     ]
    }
   ],
   "source": [
    "def 打招呼(name):\n",
    "    print(f\"你好，{name}！\")\n",
    "\n",
    "打招呼('张三')\n"
   ]
  },
  {
   "cell_type": "code",
   "execution_count": 9,
   "id": "73ba9c48",
   "metadata": {},
   "outputs": [
    {
     "name": "stdout",
     "output_type": "stream",
     "text": [
      "Hello! How can I help you today? 😊\n"
     ]
    }
   ],
   "source": [
    "def deepseek():\n",
    "    # Please install OpenAI SDK first: `pip3 install openai`\n",
    "\n",
    "    from openai import OpenAI\n",
    "\n",
    "    client = OpenAI(api_key=\"sk-fa1f860bbdd347609048a521915b94b3\", base_url=\"https://api.deepseek.com\")\n",
    "\n",
    "    response = client.chat.completions.create(\n",
    "        model=\"deepseek-chat\",\n",
    "        messages=[\n",
    "            {\"role\": \"system\", \"content\": \"You are a helpful assistant\"},\n",
    "            {\"role\": \"user\", \"content\": \"Hello\"},\n",
    "        ],\n",
    "        stream=False\n",
    "    )\n",
    "\n",
    "    print(response.choices[0].message.content)\n",
    "\n",
    "deepseek()"
   ]
  }
 ],
 "metadata": {
  "kernelspec": {
   "display_name": "myenv",
   "language": "python",
   "name": "python3"
  },
  "language_info": {
   "codemirror_mode": {
    "name": "ipython",
    "version": 3
   },
   "file_extension": ".py",
   "mimetype": "text/x-python",
   "name": "python",
   "nbconvert_exporter": "python",
   "pygments_lexer": "ipython3",
   "version": "3.12.9"
  }
 },
 "nbformat": 4,
 "nbformat_minor": 5
}
